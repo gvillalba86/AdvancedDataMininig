{
 "cells": [
  {
   "cell_type": "markdown",
   "id": "4489a96f",
   "metadata": {},
   "source": [
    "<div style=\"width: 100%; clear: both;\">\n",
    "<div style=\"float: left; width: 50%;\">\n",
    "<img src=\"http://www.uoc.edu/portal/_resources/common/imatges/marca_UOC/UOC_Masterbrand.jpg\", align=\"left\">\n",
    "</div>\n",
    "<div style=\"float: right; width: 50%;\">\n",
    "<p style=\"margin: 0; padding-top: 22px; text-align:right;\">M2.855 · Modelos avanzados de minería de datos · PEC4</p>\n",
    "<p style=\"margin: 0; text-align:right;\">2022-1 · Máster universitario en Ciencia de datos (Data science)</p>\n",
    "<p style=\"margin: 0; text-align:right; padding-button: 100px;\">Estudios de Informática, Multimedia y Telecomunicación</p>\n",
    "</div>\n",
    "</div>\n",
    "<div style=\"width:100%;\">&nbsp;</div>\n",
    "\n",
    "\n",
    "# PEC 4: Series temporales y combinación de modelos de clasificación\n",
    "\n",
    "Está práctica está dividida en dos partes:\n",
    "\n",
    " - En el primer ejercicio veremos cómo descomponer y componer series temporales para realizar predicciones a futuro. \n",
    " - En el segundo ejercicio estudiaremos diferentes técnicas mediante las que podremos combinar el resultado de múltiples clasificadores.\n",
    "\n",
    "Para esta PEC se deben usar **únicamente las librerías que se importan a continuación**. Si se desea usar otra librería hay que consultarlo con el tutor/tutora del aula.\n",
    "\n",
    "**Importante: cada uno de los ejercicios puede suponer varios minutos de ejecución, por lo que la entrega debe hacerse en formato notebook y en formato HTML donde se vea el código, los resultados y los comentarios de cada ejercicio. Para exportar el notebook a HTML puede hacerse desde el menú File $\\to$ Download as $\\to$ HTML.**"
   ]
  },
  {
   "attachments": {},
   "cell_type": "markdown",
   "id": "0446a42d",
   "metadata": {},
   "source": [
    "<div class=\"alert alert-block alert-info\">\n",
    "<strong>Nombre y apellidos: Gerson Villalba Arana</strong>\n",
    "</div>"
   ]
  },
  {
   "cell_type": "markdown",
   "id": "aa64cb9e",
   "metadata": {},
   "source": [
    "---\n",
    "\n",
    "Para ello vamos a necesitar las siguientes librerías:"
   ]
  },
  {
   "cell_type": "code",
   "execution_count": 118,
   "id": "87065562",
   "metadata": {},
   "outputs": [],
   "source": [
    "from matplotlib import pyplot as plt\n",
    "import numpy as np\n",
    "import pandas as pd\n",
    "import pickle\n",
    "import scipy.stats\n",
    "from sklearn.ensemble import GradientBoostingClassifier, RandomForestClassifier\n",
    "from sklearn.linear_model import LinearRegression\n",
    "from sklearn.metrics import accuracy_score\n",
    "from sklearn.model_selection import cross_val_score, train_test_split, validation_curve\n",
    "from sklearn.neighbors import KNeighborsClassifier\n",
    "from sklearn.preprocessing import OneHotEncoder\n",
    "from sklearn.svm import SVC\n",
    "from sklearn.tree import DecisionTreeClassifier\n",
    "from sklearn.model_selection import GridSearchCV\n",
    "import seaborn as sns\n",
    "\n",
    "%matplotlib inline"
   ]
  },
  {
   "cell_type": "code",
   "execution_count": 120,
   "id": "38eb9ba6",
   "metadata": {},
   "outputs": [],
   "source": [
    "# Set Seaborn aesthetics\n",
    "sns.set_style('darkgrid')\n",
    "plt.rcParams['figure.figsize'] = (6,4)\n",
    "plt.rcParams['lines.linewidth'] = 2\n",
    "plt.rcParams['axes.titlesize'] = 14\n",
    "plt.rcParams['axes.titlelocation'] = 'left'\n",
    "plt.style.use('ggplot')"
   ]
  },
  {
   "cell_type": "markdown",
   "id": "fb2f8f8b",
   "metadata": {},
   "source": [
    "# 1. Series temporales (6 puntos)\n",
    "\n",
    "En este primer ejercicio trabajaremos las series temporales. Para ello, usaremos el dataset *AirPassangers* que contiene información del número de vuelos que se realizaron a lo largo de muchos años.\n",
    "\n",
    "Empezaremos leyendo los datos y observando gráficamente su distribución. Como se puede apreciar es un claro caso de serie temporal, con heterocedasticidad, tendencia, periodo y ruido. A lo largo de este ejercicio trataremos cada uno de estos puntos."
   ]
  },
  {
   "cell_type": "code",
   "execution_count": 2,
   "id": "c8e751c9",
   "metadata": {},
   "outputs": [
    {
     "data": {
      "text/html": [
       "<div>\n",
       "<style scoped>\n",
       "    .dataframe tbody tr th:only-of-type {\n",
       "        vertical-align: middle;\n",
       "    }\n",
       "\n",
       "    .dataframe tbody tr th {\n",
       "        vertical-align: top;\n",
       "    }\n",
       "\n",
       "    .dataframe thead th {\n",
       "        text-align: right;\n",
       "    }\n",
       "</style>\n",
       "<table border=\"1\" class=\"dataframe\">\n",
       "  <thead>\n",
       "    <tr style=\"text-align: right;\">\n",
       "      <th></th>\n",
       "      <th>Passengers</th>\n",
       "    </tr>\n",
       "    <tr>\n",
       "      <th>Month</th>\n",
       "      <th></th>\n",
       "    </tr>\n",
       "  </thead>\n",
       "  <tbody>\n",
       "    <tr>\n",
       "      <th>1949-01-01</th>\n",
       "      <td>112</td>\n",
       "    </tr>\n",
       "    <tr>\n",
       "      <th>1949-02-01</th>\n",
       "      <td>118</td>\n",
       "    </tr>\n",
       "    <tr>\n",
       "      <th>1949-03-01</th>\n",
       "      <td>132</td>\n",
       "    </tr>\n",
       "    <tr>\n",
       "      <th>1949-04-01</th>\n",
       "      <td>129</td>\n",
       "    </tr>\n",
       "    <tr>\n",
       "      <th>1949-05-01</th>\n",
       "      <td>121</td>\n",
       "    </tr>\n",
       "  </tbody>\n",
       "</table>\n",
       "</div>"
      ],
      "text/plain": [
       "            Passengers\n",
       "Month                 \n",
       "1949-01-01         112\n",
       "1949-02-01         118\n",
       "1949-03-01         132\n",
       "1949-04-01         129\n",
       "1949-05-01         121"
      ]
     },
     "execution_count": 2,
     "metadata": {},
     "output_type": "execute_result"
    }
   ],
   "source": [
    "data = pd.read_csv('AirPassengers.csv', parse_dates=['Month'], index_col='Month', header=0)\n",
    "data.head()"
   ]
  },
  {
   "cell_type": "code",
   "execution_count": 3,
   "id": "2ef43b3f",
   "metadata": {},
   "outputs": [
    {
     "data": {
      "text/plain": [
       "<AxesSubplot:xlabel='Month'>"
      ]
     },
     "execution_count": 3,
     "metadata": {},
     "output_type": "execute_result"
    },
    {
     "data": {
      "image/png": "[encoded data removed]",
      "text/plain": [
       "<Figure size 1500x500 with 1 Axes>"
      ]
     },
     "metadata": {},
     "output_type": "display_data"
    }
   ],
   "source": [
    "data.plot(figsize=(15, 5))"
   ]
  },
  {
   "cell_type": "markdown",
   "id": "cdd18190",
   "metadata": {},
   "source": [
    "Antes de empezar a tratar las diferentes componenetes de una serie temporal, eliminaremos del dataset original un par de años de datos. Así cuando hagamos una predicción a futuro podremos comprobar si se ajusta a los datos reales."
   ]
  },
  {
   "cell_type": "code",
   "execution_count": 4,
   "id": "75687edc",
   "metadata": {},
   "outputs": [
    {
     "data": {
      "text/plain": [
       "((120, 1), (120,), (24, 1), (24,))"
      ]
     },
     "execution_count": 4,
     "metadata": {},
     "output_type": "execute_result"
    }
   ],
   "source": [
    "TEST_SIZE = 24\n",
    "train, test = data.iloc[:-TEST_SIZE].to_numpy(), data.iloc[-TEST_SIZE:].to_numpy()\n",
    "x_train, x_test = np.arange(train.shape[0]), np.arange(train.shape[0], data.shape[0])\n",
    "train.shape, x_train.shape, test.shape, x_test.shape"
   ]
  },
  {
   "cell_type": "code",
   "execution_count": 5,
   "id": "eaf3989b",
   "metadata": {},
   "outputs": [
    {
     "data": {
      "text/plain": [
       "[<matplotlib.lines.Line2D at 0x1ee4ccb4220>]"
      ]
     },
     "execution_count": 5,
     "metadata": {},
     "output_type": "execute_result"
    },
    {
     "data": {
      "image/png": "[encoded data removed]",
      "text/plain": [
       "<Figure size 1500x500 with 1 Axes>"
      ]
     },
     "metadata": {},
     "output_type": "display_data"
    }
   ],
   "source": [
    "fig, ax = plt.subplots(1, 1, figsize=(15, 5))\n",
    "ax.plot(x_train, train)\n",
    "ax.plot(x_test, test)"
   ]
  },
  {
   "cell_type": "markdown",
   "id": "b8d3a7db",
   "metadata": {},
   "source": [
    "## 1.1 Componentes de la serie temporal"
   ]
  },
  {
   "cell_type": "markdown",
   "id": "72135ec1",
   "metadata": {},
   "source": [
    "### 1.1.a. Heterocedasticidad\n",
    "\n",
    "Se dice que una serie temporal tiene heterocedasticidad cuando la variancia varía con el tiempo (https://es.wikipedia.org/wiki/Heterocedasticidad). En nuestro caso, observamos que tenemos heterocedasticidad, ya que la amplitud de onda varía con el tiempo. En este primer apartado debéis eliminar la heterocedasticidad de la serie temporal. Es decir, que la diferencia entre el mínimo y el máximo de la estacionalidad (anual) sea más o menos la misma a lo largo del tiempo."
   ]
  },
  {
   "cell_type": "markdown",
   "id": "a6a72faa",
   "metadata": {},
   "source": [
    "<div class=\"alert alert-block alert-info\">\n",
    "    <strong>Implementación:</strong> transforma los datos para eliminar la heterocedasticidad. Para ello debéis transformar los datos aplicando la función que consideréis que elimina mejor la heterocedasticidad en el dataset (exponencial, logarítmica, ...). Estas funciones ya están implementadas en numpy. Graficar los datos originales junto con los datos transformados.\n",
    "</div>"
   ]
  },
  {
   "cell_type": "code",
   "execution_count": null,
   "id": "879a1bc3",
   "metadata": {},
   "outputs": [],
   "source": []
  },
  {
   "cell_type": "markdown",
   "id": "3582bd78",
   "metadata": {},
   "source": [
    "### 1.1.b. Tendencia\n",
    "\n",
    "La tendencia es el comportamento que tienen los datos a largo plazo (https://miro.medium.com/max/1872/1*rDQL2fAp_X_dgAHNZuwRfw.png). En nuestra serie temporal tenemos una tendencia lineal creciente. En este apartado debéis eliminar la tendencia, quedando una serie temporal con tendencia constante."
   ]
  },
  {
   "cell_type": "markdown",
   "id": "1df8d6a7",
   "metadata": {},
   "source": [
    "<div class=\"alert alert-block alert-info\">\n",
    "    <strong>Implementación:</strong> elimina la tendencia de los datos. Observando la serie podemos apreciar que tenemos una tendencia lineal, por ese motivo podemos ajustar una regresión lineal (usando scikit-learn) y sustraerla a los datos originales (sin heterocedasticidad). Graficar los datos con tendencia junto con los datos sin tendencia.\n",
    "</div>"
   ]
  },
  {
   "cell_type": "code",
   "execution_count": null,
   "id": "28336fb3",
   "metadata": {},
   "outputs": [],
   "source": []
  },
  {
   "cell_type": "markdown",
   "id": "abe4ca58",
   "metadata": {},
   "source": [
    "### 1.1.c. Estacionalidad\n",
    "\n",
    "Definimos la estacionalidad como la variación cíclica que se produce en los datos (https://es.wikipedia.org/wiki/Estacionalidad). En este apartado se debe encontrar y eliminar la estacionalidad. "
   ]
  },
  {
   "cell_type": "markdown",
   "id": "5e06bb4c",
   "metadata": {},
   "source": [
    "#### 1.1.c.a. Encontrar el periodo de la estacionalidad"
   ]
  },
  {
   "cell_type": "markdown",
   "id": "329389a7",
   "metadata": {},
   "source": [
    "<div class=\"alert alert-block alert-info\">\n",
    "    <strong>Implementación:</strong> en primer lugar debeis encontrar el ciclo, es decir, cada cuánto se repiten los datos. Para ello podemos usar la autocorrelación (numpy te permite obtener los coeficientes de correlación). Graficar los coeficientes para los 22 primeros valores de autocorrelación y determinar su valor máximo, está será nuestra estacionalidad. Dar una interpretación semántica del resultado obtenido.\n",
    "</div>"
   ]
  },
  {
   "cell_type": "code",
   "execution_count": null,
   "id": "1edc83ee",
   "metadata": {},
   "outputs": [],
   "source": []
  },
  {
   "cell_type": "markdown",
   "id": "4e6346d3",
   "metadata": {},
   "source": [
    "#### 1.1.c.b. Calcular el patron de estacionalidad"
   ]
  },
  {
   "cell_type": "markdown",
   "id": "dcb5adc9",
   "metadata": {},
   "source": [
    "<div class=\"alert alert-block alert-info\">\n",
    "    <strong>Implementación:</strong> ahora que ya conocéis el ciclo, debéis calcular el patrón (el molde de la estacionalidad). Es decir, para cada punto, calcular la mediana de ese punto en cada uno de los ciclos de la serie. \n",
    "</div>"
   ]
  },
  {
   "cell_type": "code",
   "execution_count": null,
   "id": "13ff4b61",
   "metadata": {},
   "outputs": [],
   "source": []
  },
  {
   "cell_type": "markdown",
   "id": "391d2227",
   "metadata": {},
   "source": [
    "<div class=\"alert alert-block alert-info\">\n",
    "    <strong>Implementación:</strong> una vez obtenido el patrón, replicadlo a lo largo de toda la serie temporal. Cuando lo hayáis calculado debéis restarlo de la serie temporal (sin tendencia ni heterocedasticidad). Graficar los datos con estacionalidad junto con los datos sin estacionalidad.\n",
    "</div>"
   ]
  },
  {
   "cell_type": "code",
   "execution_count": null,
   "id": "1c04c778",
   "metadata": {},
   "outputs": [],
   "source": []
  },
  {
   "cell_type": "markdown",
   "id": "09c58030",
   "metadata": {},
   "source": [
    "### 1.1.d. Ruido\n",
    "\n",
    "Una vez eliminadas la heterocedasticidad, la tendencia y la estacionalidad, lo que nos queda es el ruido. El ruido sigue una distribución normal. En este apartado debeis encontrar los parámetros de la distribución que sigue el ruido (media y desviación estandard)."
   ]
  },
  {
   "cell_type": "markdown",
   "id": "275187b6",
   "metadata": {},
   "source": [
    "<div class=\"alert alert-block alert-info\">\n",
    "    <strong>Implementación:</strong> encontrar la distribución que tiene el ruido (media y desviación estándard). Podéis usar scipy.stats. Graficar un histograma del ruido junto con un histograma de la distribución teórica que tiene el ruido.\n",
    "</div>"
   ]
  },
  {
   "cell_type": "code",
   "execution_count": null,
   "id": "c9b12356",
   "metadata": {},
   "outputs": [],
   "source": []
  },
  {
   "cell_type": "markdown",
   "id": "cb36aed0",
   "metadata": {},
   "source": [
    "## 1.2. Predicción\n",
    "\n",
    "Vamos a predecir los dos proximos años y comparar la predicción con los datos reales. Para ello seguiremos los siguientes pasos:\n",
    "\n",
    "   - Generar ruido\n",
    "   - Añadir estacionalidad\n",
    "   - Añadir tendencia\n",
    "   - Añadir heterocedasticidad"
   ]
  },
  {
   "cell_type": "markdown",
   "id": "d2c3efdb",
   "metadata": {},
   "source": [
    "### 1.2.a. Ruido\n",
    "\n",
    "Como hemos visto que el ruido se distribuye aleatoriamente siguiendo una distribución normal, vamos a generar ruido siguiendo esta distribución."
   ]
  },
  {
   "cell_type": "markdown",
   "id": "0a4081b1",
   "metadata": {},
   "source": [
    "<div class=\"alert alert-block alert-info\">\n",
    "    <strong>Implementación:</strong> genera dos años de datos de ruido (24 muestras) usando la distribución encontrada en el apartado 1.1.d. Podéis usar el módulo random de numpy. Grafica los resultados.\n",
    "</div>"
   ]
  },
  {
   "cell_type": "code",
   "execution_count": null,
   "id": "ce5621c9",
   "metadata": {},
   "outputs": [],
   "source": []
  },
  {
   "cell_type": "markdown",
   "id": "13d2903c",
   "metadata": {},
   "source": [
    "### 1.2.b. Estacionalidad\n",
    "\n",
    "Anteriormente hemos calculado la estacionalidad y el ciclo de la serie temporal. Vamos a usar esta estacionalidad ya calculada para añadirla a nuestra predicción."
   ]
  },
  {
   "cell_type": "markdown",
   "id": "fe68aa6a",
   "metadata": {},
   "source": [
    "<div class=\"alert alert-block alert-info\">\n",
    "    <strong>Implementación:</strong> añade a los dos años de ruido calculados en el apartado anterior los dos años de estacionalidad encontrada en el apartado 1.1.c. Grafica los resultados.\n",
    "</div>"
   ]
  },
  {
   "cell_type": "code",
   "execution_count": null,
   "id": "a1b5aef4",
   "metadata": {},
   "outputs": [],
   "source": []
  },
  {
   "cell_type": "markdown",
   "id": "3979cea2",
   "metadata": {},
   "source": [
    "### 1.2.c. Tendencia\n",
    "\n",
    "Anteriormente hemos visto que los datos de la serie temporal tienen una tendencia lineal y la hemos calculado mediante una regresión lineal. Vamos a añadir esta tendencia a nuestra predicción."
   ]
  },
  {
   "cell_type": "markdown",
   "id": "dbaa3a76",
   "metadata": {},
   "source": [
    "<div class=\"alert alert-block alert-info\">\n",
    "    <strong>Implementación:</strong> añade a los dos años de ruido + estacionalidad calculados en el apartado anterior la tendencia encontrada en el apartado 1.1.b. Grafica los resultados.\n",
    "</div>"
   ]
  },
  {
   "cell_type": "code",
   "execution_count": null,
   "id": "4957f317",
   "metadata": {},
   "outputs": [],
   "source": []
  },
  {
   "cell_type": "markdown",
   "id": "ac873d56",
   "metadata": {},
   "source": [
    "### 1.2.d. Heterocedasticidad\n",
    "\n",
    "En el primer apartado de esta práctica hemos visto que la serie temporal tiene heterocedasticidad y la hemos eliminado transformando los datos. En este apartado haremos la transfromación inversa para añadir heterocedasticidad a nuestra predicción."
   ]
  },
  {
   "cell_type": "markdown",
   "id": "9a7756ed",
   "metadata": {},
   "source": [
    "<div class=\"alert alert-block alert-info\">\n",
    "    <strong>Implementación:</strong> añade a los dos años de ruido + estacionalidad + tendencia calculados en el apartado anterior la heterocedasticidad aplicando la función inversa a la encontrada en el apartado 1.1.a. Grafica el resultado junto con la serie completa y compara la predicción obtenida con los datos reales.\n",
    "</div>"
   ]
  },
  {
   "cell_type": "code",
   "execution_count": null,
   "id": "299384d0",
   "metadata": {},
   "outputs": [],
   "source": []
  },
  {
   "cell_type": "markdown",
   "id": "e2cbc1ba",
   "metadata": {},
   "source": [
    "<div class=\"alert alert-block alert-info\">\n",
    "    <strong>[Bonus] Implementación:</strong> como la distribución del ruido generado es aleatoria, en cada ejecución obtendremos predicciones distintas. Una manera de asegurar que la predicción obtenida es fiable es generando intervalos de confianza. \n",
    "    <hr>\n",
    "Para ello vamos a repetir los pasos anteriores pero generando 500 muestras de dos años de longitud cada una (o sea 500 predicciones). Una vez generadas definimos:\n",
    "    \n",
    "   - Intervalo de confianza = (min(predicciones), max(predicciones))\n",
    "   - Predicción final = median(predicciones)\n",
    "   \n",
    "Graficar:\n",
    "\n",
    "   - La serie temporal entera\n",
    "   - Los dos años de predicción (mediana de las 500 muestras de predicción)\n",
    "   - El valor real de los dos años que hemos predicho \n",
    "   - Los intérvalos de confianza (min y max de las 500 muestras de predicción) \n",
    "\n",
    "Para graficar los intérvalos de confianza podéis usar fill_between de matplotlib.\n",
    "</div>"
   ]
  },
  {
   "cell_type": "code",
   "execution_count": null,
   "id": "624491f1",
   "metadata": {},
   "outputs": [],
   "source": []
  },
  {
   "cell_type": "markdown",
   "id": "f5f43dd4",
   "metadata": {},
   "source": [
    "# 2. Combinación de clasificadores (5 puntos)\n",
    "\n",
    "En este ejercicio utilizaremos un subconjunto de 5.000 imágenes provenientes del corpus EMNIST, constituido por carácteres y dígitos escritos a mano\n",
    ". Dicho subconjunto está formado por 1.000 imágenes para cada una de las 5 clases diferentes (\"A\", \"B\", \"C\", \"D\" y \"E\").\n",
    "\n",
    "La primera parte de este ejercicio abordará la combinación de clasificadores en paralelo mediante las tecnicas de **_Bagging_** y **_Boosting_**.\n",
    "\n",
    "Mientras que la segunda parte pretende mejorar los resultados aplicando tecnicas de combinación secuencial de clasificadores: **_Stacking_** y **_Cascading_**.\n",
    "\n",
    "Para empezar, vamos a visualizar el dataset. Las imágenes tienen una resolución de 28x28 píxeles en escala de grises, por lo que se pueden representar utilizando un vector de 784 posiciones. El siguiente código cargará las 5.000 imágenes en la variable images y las correspondientes etiquetas (en forma numérica) en la variable labels. Podemos comprobar que la carga ha sido correcta obteniendo las dimensiones de estas dos variables."
   ]
  },
  {
   "cell_type": "code",
   "execution_count": 3,
   "id": "16a0e86e",
   "metadata": {},
   "outputs": [
    {
     "name": "stdout",
     "output_type": "stream",
     "text": [
      "Dimensiones del vector de imágenes: (5000, 784)\n",
      "Dimensiones del vector de etiquetas: (5000,)\n"
     ]
    }
   ],
   "source": [
    "with open(\"data.pickle\", \"rb\") as f:\n",
    "    data = pickle.load(f)\n",
    "    \n",
    "images = data[\"images\"]\n",
    "labels = data[\"labels\"]\n",
    "n_classes = 5\n",
    "labels_text = [\"A\", \"B\", \"C\", \"D\", \"E\"]\n",
    "\n",
    "print(\"Dimensiones del vector de imágenes: {}\".format(images.shape))\n",
    "print(\"Dimensiones del vector de etiquetas: {}\".format(labels.shape))"
   ]
  },
  {
   "cell_type": "markdown",
   "id": "3e12baf4",
   "metadata": {},
   "source": [
    "Con el siguiente código podemos ver un ejemplo de imagen de cada una de las clases. Para ello reajustamos el vector de 784 dimensiones que representa cada imagen en una matriz de tamaño 28x28 y la transponemos para mostrarla:"
   ]
  },
  {
   "cell_type": "code",
   "execution_count": 4,
   "id": "d510ca18",
   "metadata": {},
   "outputs": [
    {
     "data": {
      "image/png": "[encoded data removed]",
      "text/plain": [
       "<Figure size 1000x1000 with 5 Axes>"
      ]
     },
     "metadata": {},
     "output_type": "display_data"
    }
   ],
   "source": [
    "fig, ax = plt.subplots(1, n_classes, figsize=(10,10))\n",
    "\n",
    "idxs = [np.where(labels == i)[0] for i in range(n_classes)]\n",
    "\n",
    "for i in range(n_classes):\n",
    "    k = np.random.choice(idxs[i])\n",
    "    ax[i].imshow(images[k].reshape(28, 28).transpose(), cmap=\"gray\")\n",
    "    ax[i].set_title(\"{}\".format(labels_text[i]))"
   ]
  },
  {
   "cell_type": "markdown",
   "id": "6ba5b116",
   "metadata": {},
   "source": [
    "Para poder probar varios modelos, primero vamos a dividir el dataset en train y test.\n",
    "\n",
    "La división con la función *train_test_split* es aleatoria , pero para que todos obtengáis los mismos resultados y poder comentar dudas por el foro, fijaremos la seed para obtener los mismos datasets de train y test. El *split* tendrá en cuenta que los dos conjuntos tengan el mismo número de ejemplos para cada una de las clases gracias al parámetro *stratify=labels*.\n",
    "\n",
    "Como en la segunda parte de este ejercicio trataremos *stacking* y *cascading*, y ambos se aplican sobre el conjunto de test, haremos un *split* del 50% para tener un poco más de base al aplicar estas dos técnicas."
   ]
  },
  {
   "cell_type": "code",
   "execution_count": 6,
   "id": "1bad166c",
   "metadata": {},
   "outputs": [],
   "source": [
    "myseed = 13\n",
    "\n",
    "X_train, X_test, y_train, y_test = train_test_split(images, labels, test_size=0.5,\n",
    "                                                    random_state=myseed, \n",
    "                                                    stratify=labels)"
   ]
  },
  {
   "cell_type": "markdown",
   "id": "80731cb0",
   "metadata": {},
   "source": [
    "## 2.1. Combinación paralela de clasificadores\n",
    "\n",
    "### 2.1.1. Árbol de decisión\n",
    "\n",
    "Para poder comparar el aumento de *performance* obtenido a medida que aplicamos técnicas nuevas, utilizaremos como *baseline* un simple árbol de decisión."
   ]
  },
  {
   "cell_type": "markdown",
   "id": "a712a35e",
   "metadata": {},
   "source": [
    "<div style=\"background-color: #EDF7FF; border-color: #7C9DBF; border-left: 5px solid #7C9DBF; padding: 0.5em;\">\n",
    "<strong>Implementación:</strong>\n",
    "<br><br>\n",
    "    \n",
    "Evalúa la precisión de un árbol de decisión con profundidad máxima de 5 niveles (aplicaremos la misma restricción en las siguientes secciones) aplicando validación cruzada sobre el conjunto de datos de train.\n",
    "    \n",
    "A continuación, entrena el mismo modelo sobre el conjunto de train, calcula y guarda las predicciones sobre el conjunto de test y calcula la precisión en el conjunto de test.\n",
    "       \n",
    "<u>Sugerencia</u>: usar el módulo *cross_val_score* de *sklearn*. Para aprender más sobre *cross validation* y sobre cómo usar estos módulos, os recomendamos los siguientes enlaces: \n",
    "- http://scikit-learn.org/stable/modules/cross_validation.html\n",
    "- http://scikit-learn.org/stable/modules/generated/sklearn.model_selection.cross_val_score.html\n",
    "</div>"
   ]
  },
  {
   "cell_type": "code",
   "execution_count": 14,
   "id": "094ced04",
   "metadata": {},
   "outputs": [],
   "source": [
    "def evaluate_clf(clf, X_train, y_train, X_test, y_test):\n",
    "    cv_scores = cross_val_score(clf, X_train, y_train, cv=5, scoring='accuracy')\n",
    "    print(f'La precision con validación cruzada es: {cv_scores.mean():.3f} +/- {cv_scores.std():.3f}')\n",
    "    # Train the model with all training data\n",
    "    clf.fit(X_train, y_train)\n",
    "    # Model evaluation\n",
    "    train_acc =  accuracy_score(y_train, clf.predict(X_train))\n",
    "    print(f'La precision sobre el conjunto de entrenamiento es: {train_acc:.3f}')\n",
    "    test_acc =  accuracy_score(y_test, clf.predict(X_test))\n",
    "    print(f'La precision sobre el conjunto de test es: {test_acc:.3f}')"
   ]
  },
  {
   "cell_type": "code",
   "execution_count": 15,
   "id": "c4e6a860",
   "metadata": {},
   "outputs": [
    {
     "name": "stdout",
     "output_type": "stream",
     "text": [
      "La precision con validación cruzada es: 0.793 +/- 0.019\n",
      "La precision sobre el conjunto de entrenamiento es: 0.837\n",
      "La precision sobre el conjunto de test es: 0.795\n"
     ]
    }
   ],
   "source": [
    "DT = DecisionTreeClassifier(max_depth=5, random_state=myseed)\n",
    "evaluate_clf(DT, X_train, y_train, X_test, y_test)"
   ]
  },
  {
   "attachments": {},
   "cell_type": "markdown",
   "id": "4f40cace",
   "metadata": {},
   "source": [
    "Como podemos destacar dos puntos importantes:\n",
    "* La precisión sobre el conjunto de train es notablemente superior a la precisión sobre el conjunto de test. Esto es un claro indicativo de *overfitting*, algo típico en árboles de decisión, pese a haber limitado la protundidad máxima a 5 niveles.\n",
    "* La precisión obtenida sobre el conjunto de test es muy parecida a la obtenida con validación cruzada,algo lógico. La diferencia entre ambos es que el conjunto de test que se ha utilizado para cada caso es distinto, ya que con validación cruzada se ha utilizado como test un subconjunto del conjunto de train, y además se han tenido menos datos disponibles para entrenamiento en cada iteración. Por otro ladio, cross validation nos permite no perder datos para el entrenamiento separándolos y además nos permite obtener una estimación más fiable de la precisión del modelo, ya que podemos obtener una media con su desviación típica."
   ]
  },
  {
   "cell_type": "markdown",
   "id": "1302d74a",
   "metadata": {},
   "source": [
    "### 2.1.2. *Bagging*"
   ]
  },
  {
   "cell_type": "markdown",
   "id": "f8b4f006",
   "metadata": {},
   "source": [
    "#### 2.1.2.a. Random Forest"
   ]
  },
  {
   "cell_type": "markdown",
   "id": "b7d5ff61",
   "metadata": {},
   "source": [
    "La idea básica del bagging es utilizar el conjunto de entrenamiento original para generar centenares o miles de conjuntos similares usando muestreo con reemplazo. En este concepto está basado el algoritmo Random Forest, la combinación de varios árboles de decisión, cada uno entrenado con una realización diferente de los datos. La decisión final del clasificador combinado (el Random Forest) se toma por mayoría, dando el mismo peso a todas las decisiones parciales tomadas por los clasificadores base (los árboles)."
   ]
  },
  {
   "cell_type": "markdown",
   "id": "483de34a",
   "metadata": {},
   "source": [
    "<div style=\"background-color: #EDF7FF; border-color: #7C9DBF; border-left: 5px solid #7C9DBF; padding: 0.5em;\">\n",
    "<strong>Implementación:</strong>\n",
    "<br><br>\n",
    "        \n",
    "Evalúa la precisión de un <i>random forest</i> combinando 20 árboles de decisión con profundidad máxima de 5 niveles aplicando validación cruzada sobre el conjunto de datos de train.\n",
    "    \n",
    "A continuación, entrena el mismo modelo sobre el conjunto de train, calcula y guarda las predicciones sobre el conjunto de test y calcula la precisión en el conjunto de test.\n",
    "    \n",
    "<u>Sugerencia</u>: usar el módulo *RandomForestClassifier* de *sklearn*. Para aprender a usar este módulo os recomendamos el siguiente enlace:\n",
    "- http://scikit-learn.org/stable/modules/generated/sklearn.ensemble.RandomForestClassifier.html\n",
    "</div>"
   ]
  },
  {
   "cell_type": "code",
   "execution_count": 17,
   "id": "02a09f57",
   "metadata": {},
   "outputs": [
    {
     "name": "stdout",
     "output_type": "stream",
     "text": [
      "La precision con validación cruzada es: 0.882 +/- 0.020\n",
      "La precision sobre el conjunto de entrenamiento es: 0.920\n",
      "La precision sobre el conjunto de test es: 0.889\n"
     ]
    }
   ],
   "source": [
    "RF = RandomForestClassifier(n_estimators=20, max_depth=5, random_state=myseed)\n",
    "evaluate_clf(RF, X_train, y_train, X_test, y_test)"
   ]
  },
  {
   "cell_type": "markdown",
   "id": "74a8fdfc",
   "metadata": {},
   "source": [
    "<div style=\"background-color: #EDF7FF; border-color: #7C9DBF; border-left: 5px solid #7C9DBF; padding: 0.5em;\">\n",
    "<strong>Análisis:</strong> ¿han mejorado los resultados respecto a un simple árbol de decisión? ¿Era de esperar?\n",
    "</div>"
   ]
  },
  {
   "attachments": {},
   "cell_type": "markdown",
   "id": "b9998fef",
   "metadata": {},
   "source": [
    "Vemos que los resultados de Random Forest han sido notablemente mejores a los obtenidos con un árbol de decisión simple. Esto es de esperar, y confirma que la idea de bagging funciona, ya que al entrenar varios árboles de decisión con diferentes realizaciones de los datos, se consigue reducir la varianza del modelo, y por tanto, mejorar la precisión. Podemos comprobar además que han aumentado tanto la precisión sobre el conjunto de train como la precisión sobre el conjunto de test. Por otro lado, la diferencia entre la precisión entre ambos conjuntos evidencia la existencia de un ligero *overfitting*."
   ]
  },
  {
   "cell_type": "markdown",
   "id": "90cc2bb4",
   "metadata": {},
   "source": [
    "#### 2.1.2.b. Out-of-bag"
   ]
  },
  {
   "cell_type": "markdown",
   "id": "3eec79b9",
   "metadata": {},
   "source": [
    "Una ventaja del *bagging* usado en el *Random Forest* es que cada uno de los árboles de decisión ha sido entrenado con una combinación diferente de los datos (muestreo con reemplazo), es decir, cada uno de los árboles no ha visto una determinada parte de los datos originales. Esto define una especie de conjunto de test para cada uno de los árboles, llamado *out-of-bag*, que puede ser usado para estimar el error del modelo sin necesidad de usar el conjunto de test real que creamos previamente, ni de usar estrategias de *cross-validation*."
   ]
  },
  {
   "cell_type": "markdown",
   "id": "c562dd38",
   "metadata": {},
   "source": [
    "<div style=\"background-color: #EDF7FF; border-color: #7C9DBF; border-left: 5px solid #7C9DBF; padding: 0.5em;\">\n",
    "<strong>Implementación:</strong>\n",
    "<br><br>\n",
    "      \n",
    "Entrena sobre el conjunto de train un modelo de <i>random forest</i>combinando 20 árboles de decisión con profundidad máxima de 5 niveles y muestra la precisión de este modelo en el *out-of-bag*.\n",
    "    \n",
    "<u>Sugerencia</u>: usar el módulo *RandomForestClassifier* de *sklearn*. Para aprender más sobre *out-of-bag* y sobre como usar este módulo (incluyendo el atributo *oob&#95;score_*), os recomendamos los siguientes enlaces:\n",
    "- http://scikit-learn.org/stable/modules/generated/sklearn.ensemble.RandomForestClassifier.html\n",
    "- http://scikit-learn.org/stable/auto_examples/ensemble/plot_ensemble_oob.html\n",
    "\n",
    "</div>"
   ]
  },
  {
   "cell_type": "code",
   "execution_count": 20,
   "id": "31666b63",
   "metadata": {},
   "outputs": [
    {
     "name": "stdout",
     "output_type": "stream",
     "text": [
      "La precisión out-of-bag es: 0.8624\n"
     ]
    }
   ],
   "source": [
    "RF = RandomForestClassifier(n_estimators=20, max_depth=5, random_state=myseed, oob_score=True)\n",
    "RF.fit(X_train, y_train)\n",
    "print(f'La precisión out-of-bag es: {RF.oob_score_}')"
   ]
  },
  {
   "cell_type": "markdown",
   "id": "6c9b1971",
   "metadata": {},
   "source": [
    "<div style=\"background-color: #EDF7FF; border-color: #7C9DBF; border-left: 5px solid #7C9DBF; padding: 0.5em;\">\n",
    "<strong>Análisis:</strong> ¿la precisión obtenida en el <i>out-of-bag</i> y con los métodos de validación anteriores son comparables? ¿Era de esperar? \n",
    "</div>"
   ]
  },
  {
   "attachments": {},
   "cell_type": "markdown",
   "id": "fff5d160",
   "metadata": {},
   "source": [
    "Vemos que la precisión que hemos obtenido con los datos out-of-bag es muy similar a la que hemos obtenido con el conjunto de test o con cross-validation en el apartado anterior. Esto es de esperar, ya que el conjunto out-of-bag con datos que cada uno de los modelos de Random Forest no ha visto en la fase de entrenamiento, y por lo tanto son válidos para ser usados en la evaluación del modelo."
   ]
  },
  {
   "cell_type": "markdown",
   "id": "b1a8d494",
   "metadata": {},
   "source": [
    "#### 2.1.2.c. Número de clasificadores agregados"
   ]
  },
  {
   "cell_type": "markdown",
   "id": "8b537997",
   "metadata": {},
   "source": [
    "En los ejercicios anteriores hemos combinado 20 clasificadores simples en nuestro clasificador combinado. ¿Será que la precisión del clasificador combinado aumenta indefinidamente su desempeño si añadimos más clasificadores?\n",
    "\n",
    "Para responder a esta pregunta vamos a representar una curva de validación. La curva de validación es una representación gráfica del desempeño de un modelo variando uno de sus parámetros. Esto nos permite entender cuál es el impacto de un determinado parámetro en el desempeño de un modelo."
   ]
  },
  {
   "cell_type": "markdown",
   "id": "6e973e33",
   "metadata": {},
   "source": [
    "<div style=\"background-color: #EDF7FF; border-color: #7C9DBF; border-left: 5px solid #7C9DBF; padding: 0.5em;\">\n",
    "<strong>Implementación:</strong>\n",
    "<br><br>    \n",
    "    \n",
    "Entrena varios modelos de <it>Random Forest</it> con un número de árboles cada vez mayor. Para cada modelo, calcula su precisón en el conjunto de test o usando *cross-validation* en el conjunto de entrenamiento. Opcional: representa gráficamente la evolución de la precisión con el número de árboles para ayudarte en el análisis de los resultados.\n",
    "<br><br>\n",
    "    \n",
    "<u>Sugerencia</u>: usar el módulo *validation_curve* de sklearn. Para aprender a usar este módulo os recomendamos los siguientes enlaces:<br>\n",
    "- http://scikit-learn.org/stable/modules/generated/sklearn.model_selection.validation_curve.html<br>\n",
    "- http://scikit-learn.org/stable/modules/learning_curve.html#validation-curve\n",
    "</div>"
   ]
  },
  {
   "cell_type": "code",
   "execution_count": 225,
   "id": "9dbd3aa1",
   "metadata": {},
   "outputs": [],
   "source": [
    "RF = RandomForestClassifier(n_estimators=20, max_depth=5, random_state=myseed)\n",
    "n_estimators_grid = range(10, 201, 10)\n",
    "train_scores, test_scores = validation_curve(RF, X_train, y_train, \n",
    "                                           param_name='n_estimators', \n",
    "                                           param_range=n_estimators_grid, \n",
    "                                           cv=5, n_jobs=-1)"
   ]
  },
  {
   "cell_type": "code",
   "execution_count": 231,
   "id": "f1157e56",
   "metadata": {},
   "outputs": [
    {
     "data": {
      "image/png": "[encoded data removed]",
      "text/plain": [
       "<Figure size 1000x500 with 1 Axes>"
      ]
     },
     "metadata": {},
     "output_type": "display_data"
    }
   ],
   "source": [
    "# Compute mean and confidence interval\n",
    "mean_train = train_scores.mean(axis=1)\n",
    "ci_train = train_scores.std(axis=1)\n",
    "mean_test= test_scores.mean(axis=1)\n",
    "ci_test = test_scores.std(axis=1)\n",
    "# Plot training accuracy\n",
    "fig, ax = plt.subplots(figsize=(10, 5))\n",
    "ax.plot(n_estimators_grid, mean_train, label='Train score')\n",
    "ax.fill_between(n_estimators_grid, (mean_train-ci_train), (mean_train+ci_train), alpha=.1)\n",
    "# Plot test accuracy\n",
    "ax.plot(n_estimators_grid, mean_test, label='Test score')\n",
    "ax.fill_between(n_estimators_grid, (mean_test-ci_test), (mean_test+ci_test), alpha=.1)\n",
    "\n",
    "ax.set_xlabel('Número de árboles')\n",
    "ax.set_ylabel('Precisión')\n",
    "ax.set_title('Precisión en función del número de árboles')\n",
    "ax.legend()\n",
    "plt.show()"
   ]
  },
  {
   "cell_type": "markdown",
   "id": "1bceb4dc",
   "metadata": {},
   "source": [
    "<div style=\"background-color: #EDF7FF; border-color: #7C9DBF; border-left: 5px solid #7C9DBF; padding: 0.5em;\">\n",
    "<strong>Análisis:</strong> ¿incrementa indefinidamente la precisión con el número de árboles combinados o se satura en una precisión límite? ¿Por qué?\n",
    "</div>"
   ]
  },
  {
   "attachments": {},
   "cell_type": "markdown",
   "id": "05879560",
   "metadata": {},
   "source": [
    "De la gráfica anterior podemos ver como la precisión tanto en el conjunto de entrenamiento como en el conjunto de test aumenta con el número de árboles combinados hasta cierto punto en torno a 40 árboles. A partir de ahí, la precisión en el conjunto de entrenamiento sigue aumentando ligeramente, pero la precisión en el conjunto de test (que es la que nos importa) se queda estable en en rango del 89%. Esto es debido a que el modelo empieza a sobreajustarse a los datos de entrenamiento, y por lo tanto no es capaz de generalizar correctamente a nuevos datos, produciéndose un *overfitting* cada vez mayor. Por lo tanto, no merece la pena seguir aumentando el número de árboles combinados, a partir de este punto, ya que la precisión no aumenta y sí aumenta el tiempo de entrenamiento.\n",
    "\n",
    "Se puede observar también como el intervalo de confianza de la precisión en el conjunto de test es bastante grande en comparación con lo que observamos en el conjunto de entrenamiento, y se mantiene mas o menos estable para cualquier número de árboles. Esto nos indica que el modelo no es muy estable, y que la precisión en el conjunto de test puede variar bastante en función de los datos de entrenamiento y test que se usen (en *cross-validation* estos van cambiando)."
   ]
  },
  {
   "cell_type": "markdown",
   "id": "4d76b251",
   "metadata": {},
   "source": [
    "### 2.1.3. *Boosting*"
   ]
  },
  {
   "cell_type": "markdown",
   "id": "bb36de6f",
   "metadata": {},
   "source": [
    "En el sistema de Boosting se combinan varios clasificadores débiles sequencialmente, y en cada uno de ellos se da más peso a los datos que han sido erróneamente clasificados en las combinaciones anteriores, para que se concentre así en los casos más difíciles de resolver."
   ]
  },
  {
   "cell_type": "markdown",
   "id": "5ab76bd6",
   "metadata": {},
   "source": [
    "<div style=\"background-color: #EDF7FF; border-color: #7C9DBF; border-left: 5px solid #7C9DBF; padding: 0.5em;\">\n",
    "<strong>Implementación:</strong>\n",
    "<br><br>\n",
    "\n",
    "Evalúa la precisión de un <i>gradient boosting</i> con profundidad máxima de 5 niveles y 20 etapas de <i>boosting</i> aplicando validación cruzada sobre el conjunto de datos de train.\n",
    "    \n",
    "A continuación, entrena el mismo modelo sobre el conjunto de train, calcula y guarda las predicciones sobre el conjunto de test y calcula la precisión en el conjunto de test.\n",
    "    \n",
    "<u>Sugerencia</u>: usar el módulo *GradientBoostingClassifier* de sklearn. Para aprender a usar este módulo os recomendamos el siguiente enlace:\n",
    "- http://scikit-learn.org/stable/modules/generated/sklearn.ensemble.GradientBoostingClassifier.html\n",
    "</div>"
   ]
  },
  {
   "cell_type": "code",
   "execution_count": 18,
   "id": "65bd682e",
   "metadata": {},
   "outputs": [
    {
     "name": "stdout",
     "output_type": "stream",
     "text": [
      "La precision con validación cruzada es: 0.920 +/- 0.014\n",
      "La precision sobre el conjunto de entrenamiento es: 0.999\n",
      "La precision sobre el conjunto de test es: 0.921\n"
     ]
    }
   ],
   "source": [
    "GB = GradientBoostingClassifier(n_estimators=20, max_depth=5, random_state=myseed)\n",
    "evaluate_clf(GB, X_train, y_train, X_test, y_test)"
   ]
  },
  {
   "cell_type": "markdown",
   "id": "0c7daac6",
   "metadata": {},
   "source": [
    "<div style=\"background-color: #EDF7FF; border-color: #7C9DBF; border-left: 5px solid #7C9DBF; padding: 0.5em;\">\n",
    "<strong>Análisis:</strong> ¿han mejorado los resultados respecto a un simple árbol de decisión? ¿Era de esperar?\n",
    "</div>"
   ]
  },
  {
   "attachments": {},
   "cell_type": "markdown",
   "id": "fbdfcd38",
   "metadata": {},
   "source": [
    "Vemos como con *boosting* tenemos una precisión mucho mayor que con el árbol de decisión sencillo, como era de esperar, pero tambien que con *Random Forest*, frente a la que hemos ganado aproximadamente un 4%. Esto es debido a que *boosting* se va a centrar en los casos en los que el modelo no ha logrado clasificar correctamente para darles un mayor peso, con lo que se consigue una mayor precisión. Esta es la razón también por la que con *boosting* tenemos un fuerte overfitting, ya que tenemos una precisión sobre el conjunto de entrenamiento de casi el 100%, siendo la de test de un 92%. Con *boosting* el algoritmo ha aprendido a clasificar perfectamente todos los datos de entrenamiento, dandole más y más importancia a aquellos que no se lograban clasificar bien, consiguiendo al final una clasificación casi perfecta pero eso si, sobre un conjunto específico de datos de entrenamiento; en el momento en que el modelo se evalúa con datos no vistos, la precisión de éste baja mucho. A pesar de todo, es el modelo con el que obtenemos mejores resultados.\n",
    "\n",
    "Lamentablemente, el hecho de que el *boosting* sea un algoritmo secuencial hace que sea mucho más lento que *Random Forest*, que es altamente paralelizable. Aun tratándose de un modelo sencillo y unos datos de entrenamiento relativamente pequeños, el tiempo de entrenamiento crece considerablemnte con el método de *boosting* frente al de *bagging*."
   ]
  },
  {
   "cell_type": "markdown",
   "id": "0e5407b6",
   "metadata": {},
   "source": [
    "## 2.2. Combinación secuencial de clasificadores base diferentes"
   ]
  },
  {
   "cell_type": "markdown",
   "id": "a2502604",
   "metadata": {},
   "source": [
    "Para poder hacer combinación secuencial de modelos, necessitamos tener varios modelos diferentes entrenados. \n",
    "\n",
    "En nuestro caso, ya tenemos un árbol de decisión, el *random forest* y el *gradient boosting*. Vamos a entrenar un par de modelos más."
   ]
  },
  {
   "cell_type": "markdown",
   "id": "d3fc640a",
   "metadata": {},
   "source": [
    "### 2.2.1 Clasificadores adicionales"
   ]
  },
  {
   "cell_type": "markdown",
   "id": "d9501cba",
   "metadata": {},
   "source": [
    "<div style=\"background-color: #EDF7FF; border-color: #7C9DBF; border-left: 5px solid #7C9DBF; padding: 0.5em;\">\n",
    "<strong>Implementación:</strong>\n",
    "<br><br>\n",
    "    \n",
    "Entrena un <i>k-neighbors</i> con 2 vecinos sobre el conjunto de datos de train, calcula y guarda las predicciones sobre el conjunto de test y calcula la precisión en el conjunto de test. \n",
    "\n",
    "Entrena un SVM (Suport vector machines) con gamma = 0.07 sobre el conjunto de datos de train, calcula y guarda las predicciones sobre el conjunto de test y calcula la precisión en el conjunto de test. \n",
    "</div>  "
   ]
  },
  {
   "attachments": {},
   "cell_type": "markdown",
   "id": "9797afa6",
   "metadata": {},
   "source": [
    "Como tanto SVC como kNN son modelos que son sensibles a la escala de los datos, creamos una Pipeline con un preprocesado de datos que normalice los datos antes de aplicar el modelo. Esto no era necesario en los modelos que hemos entrenado hasta ahora, ya que los árboles de decisión y todos los modelos basados en árboles no son sensibles a la escala de los datos."
   ]
  },
  {
   "cell_type": "code",
   "execution_count": 260,
   "id": "2ded9f69",
   "metadata": {},
   "outputs": [
    {
     "name": "stdout",
     "output_type": "stream",
     "text": [
      "La precisión sobre el conjunto de test con k-NN es: 0.895\n",
      "La precisión sobre el conjunto de test con SVC es: 0.275\n"
     ]
    }
   ],
   "source": [
    "from sklearn.pipeline import Pipeline\n",
    "from sklearn.preprocessing import StandardScaler\n",
    "\n",
    "\n",
    "KNN_pipe = Pipeline([('scaler', StandardScaler()), \n",
    "                     ('clf', KNeighborsClassifier(n_neighbors=2))])\n",
    "\n",
    "KNN_pipe.fit(X_train, y_train)\n",
    "knn_y_test_pred = KNN_pipe.predict(X_test)\n",
    "knn_acc = accuracy_score(y_test, KNN_pipe.predict(X_test))\n",
    "print(f'La precisión sobre el conjunto de test con k-NN es: {knn_acc:.3f}')\n",
    "\n",
    "\n",
    "SVC_pipe = Pipeline([('scaler', StandardScaler()), \n",
    "                     ('clf', SVC(kernel='rbf', gamma=0.07))])\n",
    "\n",
    "SVC_pipe.fit(X_train, y_train)\n",
    "svc_y_test_pred = SVC_pipe.predict(X_test)\n",
    "svc_acc = accuracy_score(y_test, svc_y_test_pred)\n",
    "print(f'La precisión sobre el conjunto de test con SVC es: {svc_acc:.3f}')\n"
   ]
  },
  {
   "cell_type": "markdown",
   "id": "0d35d947",
   "metadata": {},
   "source": [
    "<div style=\"background-color: #EDF7FF; border-color: #7C9DBF; border-left: 5px solid #7C9DBF; padding: 0.5em;\">\n",
    "<strong>Análisis:</strong> comenta los resultados.\n",
    "</div>"
   ]
  },
  {
   "attachments": {},
   "cell_type": "markdown",
   "id": "470f97cf",
   "metadata": {},
   "source": [
    "La precisión que obtenemos con kNN es de casi un 90%, sorprendentemente alta para un modelo tan sencillo. \n",
    "\n",
    "La precisión de SVC, sin embargo, es muy baja. Esto es debido a que el valor de gamma utilizado es inadecuado para el problema, y la clasificación que realiza es poco mejor que la de un clasificador aleatorio, con el que obtendríamos una precisión del 20% contando con 5 clases balanceadas como tenemos en este caso."
   ]
  },
  {
   "cell_type": "markdown",
   "id": "96cf54b1",
   "metadata": {},
   "source": [
    "### 2.2.2 *Stacking*"
   ]
  },
  {
   "cell_type": "markdown",
   "id": "5946899e",
   "metadata": {},
   "source": [
    "Un clasificador de *stacking* usa como atributos las predicciones hechas por otros clasificadores en lugar de los datos originales de entrada."
   ]
  },
  {
   "cell_type": "markdown",
   "id": "6934123d",
   "metadata": {},
   "source": [
    "<div style=\"background-color: #EDF7FF; border-color: #7C9DBF; border-left: 5px solid #7C9DBF; padding: 0.5em;\">\n",
    "    <strong>Implementación:</strong>\n",
    "<br><br>\n",
    "    \n",
    "Construye un clasificador de <i>stacking</i> usando un <i>Gradient Boosting</i> (con profundidad máxima de 5 niveles y 20 etapas de <i>boosting</i>) que use como atributos las predicciones hechas en el conjunto de test por los algoritmos: \n",
    "    \n",
    "- árbol de decisión\n",
    "- random forest\n",
    "- gradient boosting\n",
    "- knn\n",
    "- svm \n",
    " \n",
    "Calcula la precisión del modelo resultante con *cross-validation* en el conjunto de test (en este caso no tenemos conjunto de train, con lo cual se hace directamente cross-validation sobre test).\n",
    "\n",
    "<u>Sugerencia</u>: usar la función column_stack de numpy para juntar todas las predicciones. Dado que las variables que usaremos ahora como predictors son categóricas, es preferible transformarlas en *dummies* (*one-hot-encoding*). Para apender a usar estas funciones os recomendamos los siguientes enlaces:\n",
    "- https://docs.scipy.org/doc/numpy-1.14.0/reference/generated/numpy.column_stack.html\n",
    "- https://scikit-learn.org/stable/modules/generated/sklearn.preprocessing.OneHotEncoder.html\n",
    "</div>"
   ]
  },
  {
   "cell_type": "code",
   "execution_count": 261,
   "id": "fed6804b",
   "metadata": {},
   "outputs": [
    {
     "name": "stdout",
     "output_type": "stream",
     "text": [
      "La precision con validación cruzada es en decision_tree es: 0.794 +/- 0.028\n",
      "La precision con validación cruzada es en random_forest es: 0.891 +/- 0.020\n",
      "La precision con validación cruzada es en gradient_boosting es: 0.924 +/- 0.018\n",
      "La precision con validación cruzada es en svc es: 0.275 +/- 0.014\n",
      "La precision con validación cruzada es en knn es: 0.894 +/- 0.015\n"
     ]
    }
   ],
   "source": [
    "base_models = [('decision_tree', DT),\n",
    "               ('random_forest', RF),\n",
    "               ('gradient_boosting', GB),\n",
    "               ('svc', SVC_pipe),\n",
    "               ('knn', KNN_pipe)]\n",
    "clf_pred = np.zeros((y_train.shape[0], len(base_models)))\n",
    "acc_test = {}\n",
    "for i, (clf_name, clf) in enumerate(base_models):\n",
    "    clf.fit(X_train, y_train)\n",
    "    y_test_pred = clf.predict(X_test)\n",
    "    acc_test[clf_name] = cross_val_score(clf, X_train, y_train, n_jobs=-1, cv=10, scoring='accuracy')\n",
    "    print(f'La precision con validación cruzada es en {clf_name} es: {acc_test[clf_name].mean():.3f} +/- {acc_test[clf_name].std():.3f}')\n",
    "    clf_pred[:, i] = y_test_pred"
   ]
  },
  {
   "cell_type": "code",
   "execution_count": 262,
   "id": "cf7ddbb3",
   "metadata": {},
   "outputs": [
    {
     "name": "stdout",
     "output_type": "stream",
     "text": [
      "Dimensión del vector de características antes de codificación: (2500, 5)\n",
      "Dimensión del vector de características después de codificación: (2500, 25)\n"
     ]
    }
   ],
   "source": [
    "print(f'Dimensión del vector de características antes de codificación: {clf_pred.shape}')\n",
    "clf_pred_oh = OneHotEncoder().fit_transform(clf_pred).toarray()\n",
    "print(f'Dimensión del vector de características después de codificación: {clf_pred_oh.shape}')"
   ]
  },
  {
   "cell_type": "code",
   "execution_count": 263,
   "id": "766a1b79",
   "metadata": {},
   "outputs": [
    {
     "name": "stdout",
     "output_type": "stream",
     "text": [
      "La precision con validación cruzada es en stacking es: 0.931       +/- 0.009\n"
     ]
    }
   ],
   "source": [
    "stack_clf = GradientBoostingClassifier(n_estimators=20, max_depth=5, random_state=myseed)\n",
    "acc_test['stacking'] = cross_val_score(stack_clf, clf_pred_oh, y_test, cv=10, scoring='accuracy')\n",
    "print(f'La precision con validación cruzada es en stacking es: {acc_test[\"stacking\"].mean():.3f} \\\n",
    "      +/- {acc_test[\"stacking\"].std():.3f}')"
   ]
  },
  {
   "cell_type": "markdown",
   "id": "15c46fa4",
   "metadata": {},
   "source": [
    "<div style=\"background-color: #EDF7FF; border-color: #7C9DBF; border-left: 5px solid #7C9DBF; padding: 0.5em;\">\n",
    "    <strong>Análisis:</strong> ¿has conseguido mejorar la precisión gracias al <i>stacking</i>? Comenta los resultados.\n",
    "</div>"
   ]
  },
  {
   "attachments": {},
   "cell_type": "markdown",
   "id": "68dfbb17",
   "metadata": {},
   "source": [
    "Vemos como con *stacking* hemos conseguido una precisión de más del 93%, que es más que lo obtenido con los cinco modelos base que hemos \n",
    "utilizado, a pesar de que varios de ellos ya eran modelos de *ensemble*. Por lo tanto, el *stacking* ha resultado una técnica muy útil para mejorar la precisión de un modelo en este caso. En este caso sin embargo, la mejora no es muy grande, ya que el *staking* sólo mejora en unas décimas la precisión que obteníamos con, por ejemplo, gradient boosting, el mejor de los modelos probados hasta el momento.\n",
    "\n",
    "Hayq ue tener en cuenta que la cantidad de cómputo con staking es mucho mayor, pues tiene que entrenar varios modelos base y a continuación el modelo de *stacking*. La ventaja es que el entrenamiendo de los modelos base se puede hacer en paralelo, y a continuación una vez se tienen los resultados de éstos, realizar en serie el entrenamiento del modelo de *stacking* con las predicciones de los modelos base como atributos."
   ]
  },
  {
   "cell_type": "markdown",
   "id": "2d38a028",
   "metadata": {},
   "source": [
    "### 2.2.3. *Cascading*"
   ]
  },
  {
   "cell_type": "markdown",
   "id": "9d46e0f6",
   "metadata": {},
   "source": [
    "El caso de *cascading* es parecido al de *stacking* pero utilizando no solamente las predicciones parciales de los clasificadores base, sino también los datos originales."
   ]
  },
  {
   "cell_type": "markdown",
   "id": "7f6f89b9",
   "metadata": {},
   "source": [
    "<div style=\"background-color: #EDF7FF; border-color: #7C9DBF; border-left: 5px solid #7C9DBF; padding: 0.5em;\">\n",
    "    <strong>Implementación:</strong>\n",
    "<br><br>\n",
    "    \n",
    "Construye un clasificador de <i>cascading</i> usando un <i>Gradient Boosting</i> (con profundidad máxima de 5 niveles y 20 etapas de <i>boosting</i>) que use como atributos las predicciones obtenidas con los modelos anteriores en el conjunto de test (igual que con el <i>stacking</i>), y también las variables originales. \n",
    "    \n",
    "Calcula la precisión del modelo resultante con *cross-validation* en el conjunto de test.\n",
    "\n",
    "<u>Sugerencia</u>: Usa el mismo conjunto de datos que en el ejercicio anterior pero añade `X_test`.\n",
    "</div>"
   ]
  },
  {
   "attachments": {},
   "cell_type": "markdown",
   "id": "281cfbf9",
   "metadata": {},
   "source": [
    "En este caso de *cascading* realizaremos exactamente los mismo pasos que para *staking*, sólo que en lugar de usar exclusivamente las predicciones de los modelos base como atributos, usaremos además las variables originales. Las variables originales y las de predicciones de los modelos base estarán en distintas escalas. Esto podría ser un problema para otros modelos, pero en este caso no lo es, ya que el modelo final que estamos usando está basado en árboles, que no son sensibles a la escala de los datos de entrada. Si no fuese el caso, realizaríamos un escalado de los datos previo."
   ]
  },
  {
   "cell_type": "code",
   "execution_count": 264,
   "id": "6ff60d84",
   "metadata": {},
   "outputs": [
    {
     "name": "stdout",
     "output_type": "stream",
     "text": [
      "La precision con validación cruzada es en cascading es: 0.934 +/- 0.014\n"
     ]
    }
   ],
   "source": [
    "cascading_clf = GradientBoostingClassifier(n_estimators=20, max_depth=5, random_state=myseed)\n",
    "acc_test['cascading'] = cross_val_score(cascading_clf, np.hstack((clf_pred_oh, X_test)), \n",
    "                                        y_test, cv=10, scoring='accuracy')\n",
    "print(f'La precision con validación cruzada es en cascading es: {acc_test[\"cascading\"].mean():.3f} +/- {acc_test[\"cascading\"].std():.3f}')"
   ]
  },
  {
   "cell_type": "markdown",
   "id": "bbd1420f",
   "metadata": {},
   "source": [
    "<div style=\"background-color: #EDF7FF; border-color: #7C9DBF; border-left: 5px solid #7C9DBF; padding: 0.5em;\">\n",
    "    <strong>Análisis:</strong> ¿has conseguido mejorar la precisión gracias al <i>cascading</i>? Comenta los resultados.\n",
    "</div>"
   ]
  },
  {
   "attachments": {},
   "cell_type": "markdown",
   "id": "2ea9c70b",
   "metadata": {},
   "source": [
    "Se consigue con *cascading* una precisión algo superior en media a la obtenida con *stacking*, algo lógico. Hay que tener en cuenta que ambos métodos son idénticos a excepción de que en *cascading* se usan además las variables originales como atributos, por lo que el modelo final tiene más información de la que tiene el modelo de *stacking*, y el rendimiento siempre será igual o mejor. Por supuesto, el tiempo de entrenamiento de *cascading* ha sido también superior al de *stacking*, ya que el espacio de atributos para entrenar el modelo final es muchísimo mayor. En este caso, la mejora obtenida con *cascading* es muy baja, de sólo el 0.3% en media, por lo que no merecería la pena su uso frente a *stacking*.\n",
    "\n",
    "A continuación vemos una comparativa de todos los modelos probados en esta práctica. Podemos comprobar que el modelo de *cascading* es el que mejor precisión ha obtenido, seguido del modelo de *stacking*, algo lógico pues son los de mayor complejidad y también tiempo de entrenamiento. El modelo de *boosting* es el siguiente, y el árbol de decisión el que peor precisión ha obtenido."
   ]
  },
  {
   "cell_type": "code",
   "execution_count": 270,
   "id": "da08c5a9",
   "metadata": {},
   "outputs": [
    {
     "data": {
      "image/png": "[encoded data removed]",
      "text/plain": [
       "<Figure size 800x600 with 1 Axes>"
      ]
     },
     "metadata": {},
     "output_type": "display_data"
    }
   ],
   "source": [
    "acc_test_df = pd.DataFrame(acc_test)\n",
    "acc_test_df = pd.melt(acc_test_df)\n",
    "fig, ax = plt.subplots(figsize=(8, 6))\n",
    "order = acc_test_df.groupby('variable')['value'].mean().sort_values(ascending=False).index\n",
    "sns.barplot(data=acc_test_df, x='value', y='variable', color='steelblue', order=order, ax=ax)\n",
    "ax.set_title('Comparación de modelos')\n",
    "ax.set_xlabel('Precisión')\n",
    "ax.set_ylabel('')\n",
    "plt.show()"
   ]
  },
  {
   "cell_type": "code",
   "execution_count": null,
   "id": "e3b357ac",
   "metadata": {},
   "outputs": [],
   "source": []
  }
 ],
 "metadata": {
  "kernelspec": {
   "display_name": "uoc20221pec3",
   "language": "python",
   "name": "python3"
  },
  "language_info": {
   "codemirror_mode": {
    "name": "ipython",
    "version": 3
   },
   "file_extension": ".py",
   "mimetype": "text/x-python",
   "name": "python",
   "nbconvert_exporter": "python",
   "pygments_lexer": "ipython3",
   "version": "3.10.8"
  },
  "vscode": {
   "interpreter": {
    "hash": "30c8631668b682521d6404b26779d72aed2b788adb66a4cd3f22e7890a1cd467"
   }
  }
 },
 "nbformat": 4,
 "nbformat_minor": 5
}
